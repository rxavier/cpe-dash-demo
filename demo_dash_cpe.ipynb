{
  "nbformat": 4,
  "nbformat_minor": 0,
  "metadata": {
    "colab": {
      "name": "demo_dash_cpe.ipynb",
      "provenance": []
    },
    "kernelspec": {
      "name": "python3",
      "display_name": "Python 3"
    }
  },
  "cells": [
    {
      "cell_type": "markdown",
      "metadata": {
        "id": "5xD331Mj9uoE"
      },
      "source": [
        "# Demo de Plotly Dash\n",
        "## Diploma en Data Science - Instituto CPE\n",
        "### Rafael Xavier\n",
        "\n",
        "Plotly Dash es un paquete de Python (también de R y Julia) para la creación de webapps enfocadas en análisis de datos. Es un contexto de alto nivel, en el que el usuario no necesita saber demasiado de lo que está pasando detrás de escenas, y que permite crear interfaces avanzadas con facilidad. Ni siquiera es necesario saber demasiado de HTML y CSS.\n",
        "\n",
        "Su uso más difundido es el crear dashboards que permitan resumir un gran número de datos de manera visualmente útil.\n",
        "\n",
        "Este demo va a usar solamente `Pandas` (ya incluido en Colab) y `Dash`. \n",
        "Como estamos en un entorno de notebook, tenemos que usar `JupyterDash` en lugar de `Dash`, pero la funcionalidad es idéntica."
      ]
    },
    {
      "cell_type": "code",
      "metadata": {
        "id": "tipEPI5WgHT1"
      },
      "source": [
        "%%capture\n",
        "!pip install jupyter-dash\n",
        "!pip install pandas\n",
        "\n",
        "import pandas as pd\n",
        "import plotly.express as px\n",
        "import dash_core_components as dcc\n",
        "import dash_html_components as html\n",
        "from dash.dependencies import Input, Output, State\n",
        "from jupyter_dash import JupyterDash\n",
        "from IPython.display import HTML"
      ],
      "execution_count": 1,
      "outputs": []
    },
    {
      "cell_type": "markdown",
      "metadata": {
        "id": "GXtHkZ1i_OMh"
      },
      "source": [
        "El dataset que vamos a usar es inventado. Representa las ventas de un comercio con sucursales en todo el país, e incluye el tipo de producto, precio unitario, tasa de IVA, departamento de la venta, etc."
      ]
    },
    {
      "cell_type": "code",
      "metadata": {
        "id": "Kmxok3BYgd9x",
        "outputId": "d4edaebd-6a84-4a09-99d5-b50602287287",
        "colab": {
          "base_uri": "https://localhost:8080/",
          "height": 235
        }
      },
      "source": [
        "data_url = \"https://raw.githubusercontent.com/rxavier/cpe-demo/main/sample_data.csv\"\n",
        "df = pd.read_csv(data_url, index_col=\"fecha\")\n",
        "df.index = pd.to_datetime(df.index)\n",
        "HTML(df.head().to_html())"
      ],
      "execution_count": 2,
      "outputs": [
        {
          "output_type": "execute_result",
          "data": {
            "text/html": [
              "<table border=\"1\" class=\"dataframe\">\n",
              "  <thead>\n",
              "    <tr style=\"text-align: right;\">\n",
              "      <th></th>\n",
              "      <th>id</th>\n",
              "      <th>producto</th>\n",
              "      <th>unidades</th>\n",
              "      <th>precio</th>\n",
              "      <th>subtotal</th>\n",
              "      <th>tasa_iva</th>\n",
              "      <th>iva</th>\n",
              "      <th>total</th>\n",
              "      <th>departamento</th>\n",
              "    </tr>\n",
              "    <tr>\n",
              "      <th>fecha</th>\n",
              "      <th></th>\n",
              "      <th></th>\n",
              "      <th></th>\n",
              "      <th></th>\n",
              "      <th></th>\n",
              "      <th></th>\n",
              "      <th></th>\n",
              "      <th></th>\n",
              "      <th></th>\n",
              "    </tr>\n",
              "  </thead>\n",
              "  <tbody>\n",
              "    <tr>\n",
              "      <th>2019-05-23</th>\n",
              "      <td>1</td>\n",
              "      <td>Limpieza</td>\n",
              "      <td>8</td>\n",
              "      <td>340</td>\n",
              "      <td>2720</td>\n",
              "      <td>0%</td>\n",
              "      <td>0.00</td>\n",
              "      <td>2720.00</td>\n",
              "      <td>Canelones</td>\n",
              "    </tr>\n",
              "    <tr>\n",
              "      <th>2019-04-14</th>\n",
              "      <td>2</td>\n",
              "      <td>Alimentos</td>\n",
              "      <td>7</td>\n",
              "      <td>308</td>\n",
              "      <td>2156</td>\n",
              "      <td>10%</td>\n",
              "      <td>215.60</td>\n",
              "      <td>2371.60</td>\n",
              "      <td>Florida</td>\n",
              "    </tr>\n",
              "    <tr>\n",
              "      <th>2019-04-16</th>\n",
              "      <td>3</td>\n",
              "      <td>Bebidas</td>\n",
              "      <td>4</td>\n",
              "      <td>297</td>\n",
              "      <td>1188</td>\n",
              "      <td>22%</td>\n",
              "      <td>261.36</td>\n",
              "      <td>1449.36</td>\n",
              "      <td>Cerro Largo</td>\n",
              "    </tr>\n",
              "    <tr>\n",
              "      <th>2019-04-29</th>\n",
              "      <td>4</td>\n",
              "      <td>Bebidas</td>\n",
              "      <td>7</td>\n",
              "      <td>419</td>\n",
              "      <td>2933</td>\n",
              "      <td>0%</td>\n",
              "      <td>0.00</td>\n",
              "      <td>2933.00</td>\n",
              "      <td>Artigas</td>\n",
              "    </tr>\n",
              "    <tr>\n",
              "      <th>2020-01-02</th>\n",
              "      <td>5</td>\n",
              "      <td>Higiene</td>\n",
              "      <td>3</td>\n",
              "      <td>327</td>\n",
              "      <td>981</td>\n",
              "      <td>10%</td>\n",
              "      <td>98.10</td>\n",
              "      <td>1079.10</td>\n",
              "      <td>Durazno</td>\n",
              "    </tr>\n",
              "  </tbody>\n",
              "</table>"
            ],
            "text/plain": [
              "<IPython.core.display.HTML object>"
            ]
          },
          "metadata": {
            "tags": []
          },
          "execution_count": 2
        }
      ]
    },
    {
      "cell_type": "markdown",
      "metadata": {
        "id": "q_5xreoKAdxR"
      },
      "source": [
        "A continuación definimos el setup básico de una app de Dash. Primero hago referencia a una hoja de estilo de CSS externa creada por el desarrollador de Dash. Esto es opcional pero deja la app bastante más atractiva.\n",
        "\n",
        "Lo siguiente es definir la app propiamente dicha (si no estuviéramos en un entorno de notebook pondríamos `Dash` en lugar de `JupyterDash`) y a continuación definir el layout, es decir, los distintos componentes HTML que van a conformar la webapp.\n",
        "\n",
        "Cabe destacar que este layout no tiene por qué ser el final, ya que como vamos a ver más adelante se puede seguir extendiendo, e incluso puede ser modificable por el usuario.\n",
        "\n",
        "Como verán, no escribimos HTML propiamente dicho, sino que estamos haciendo referencia a clases de `dash_html_dependencies`. Este módulo tiene todos los componentes de HTML que usualmente querríamos usar, como `div`, `p`, `br`, `h1`, etc."
      ]
    },
    {
      "cell_type": "markdown",
      "metadata": {
        "id": "lMjMx4AHW2l-"
      },
      "source": [
        "Con esas pocas líneas ya tenemos una interfaz web para chequear. Para ello, corremos la app.\n",
        "\n",
        "No es mucho, pero sabemos que funciona. "
      ]
    },
    {
      "cell_type": "code",
      "metadata": {
        "id": "GLhF5gQgsjMM",
        "outputId": "183c8b88-9c91-479b-fbd7-6ef844a7fbce",
        "colab": {
          "base_uri": "https://localhost:8080/",
          "height": 51
        }
      },
      "source": [
        "external_stylesheets = [\"https://codepen.io/chriddyp/pen/bWLwgP.css\"]\n",
        "\n",
        "app = JupyterDash(__name__, external_stylesheets=external_stylesheets)\n",
        "\n",
        "app.layout = html.Div([html.H1(\"Demo de Plotly Dash\"),\n",
        "                       html.H2(\"Diploma en Data Science - Instituto CPE\"),\n",
        "                       html.H3(\"Rafael Xavier\")])\n",
        "\n",
        "app.run_server(mode=\"external\")"
      ],
      "execution_count": 3,
      "outputs": [
        {
          "output_type": "stream",
          "text": [
            "Dash app running on:\n"
          ],
          "name": "stdout"
        },
        {
          "output_type": "display_data",
          "data": {
            "application/javascript": [
              "(async (port, path, text, element) => {\n",
              "    if (!google.colab.kernel.accessAllowed) {\n",
              "      return;\n",
              "    }\n",
              "    element.appendChild(document.createTextNode(''));\n",
              "    const url = await google.colab.kernel.proxyPort(port);\n",
              "    const anchor = document.createElement('a');\n",
              "    anchor.href = url + path;\n",
              "    anchor.target = '_blank';\n",
              "    anchor.setAttribute('data-href', url + path);\n",
              "    anchor.textContent = text;\n",
              "    element.appendChild(anchor);\n",
              "  })(8050, \"/\", \"http://127.0.0.1:8050/\", window.element)"
            ],
            "text/plain": [
              "<IPython.core.display.Javascript object>"
            ]
          },
          "metadata": {
            "tags": []
          }
        }
      ]
    },
    {
      "cell_type": "markdown",
      "metadata": {
        "id": "UOlUcX4oUwK6"
      },
      "source": [
        "Lo siguiente es incorporar un gráfico simple.\n",
        "\n",
        "Este gráfico, como todos los de Dash por defecto, es interactivo: muestra los valores al pasar el cursor, permite hacer zoom e incluso descargarlo como imagen.\n",
        "\n",
        "En este primer paso simplemente vamos a acumular mensualmente las ventas de este comercio y mostrarlo en un gráfico de líneas. Para ello vamos a usar el paquete `Plotly Express`, que está incluído en `Dash`, y facilita enormemente la creación de gráficos razonablemente complejos.\n",
        "\n",
        "Además vamos a extender el layout ya definido para agregar un elemento `Graph` del módulo `dash_core_components`, que funciona como contenedor de la gráfica propiamente dicha."
      ]
    },
    {
      "cell_type": "markdown",
      "metadata": {
        "id": "CYXPB7zaMgbf"
      },
      "source": [
        "Con el layout ya actualizado vamos a reiniciar la app, que va a actualizar automáticamente la interfaz para incluir el gráfico."
      ]
    },
    {
      "cell_type": "code",
      "metadata": {
        "id": "ZoQiEpIvU-ff",
        "cellView": "both",
        "outputId": "bab4e962-9cfe-4ef6-b86e-0f73ecbe4f2e",
        "colab": {
          "base_uri": "https://localhost:8080/",
          "height": 51
        }
      },
      "source": [
        "data = df.resample(\"M\").sum()\n",
        "primera_grafica = px.line(data, y=\"total\", x=data.index,\n",
        "                          title=\"Ventas totales mensuales\",\n",
        "                          color_discrete_sequence=px.colors.qualitative.Vivid,\n",
        "                          template=\"plotly_white\")\n",
        "\n",
        "simple = [html.H2(\"Gráfica simple sin callbacks\"),\n",
        "          dcc.Graph(id=\"primera\", figure=primera_grafica)]\n",
        "\n",
        "app.layout.children.extend(simple)\n",
        "\n",
        "app.run_server(mode=\"external\")"
      ],
      "execution_count": 4,
      "outputs": [
        {
          "output_type": "stream",
          "text": [
            "Dash app running on:\n"
          ],
          "name": "stdout"
        },
        {
          "output_type": "display_data",
          "data": {
            "application/javascript": [
              "(async (port, path, text, element) => {\n",
              "    if (!google.colab.kernel.accessAllowed) {\n",
              "      return;\n",
              "    }\n",
              "    element.appendChild(document.createTextNode(''));\n",
              "    const url = await google.colab.kernel.proxyPort(port);\n",
              "    const anchor = document.createElement('a');\n",
              "    anchor.href = url + path;\n",
              "    anchor.target = '_blank';\n",
              "    anchor.setAttribute('data-href', url + path);\n",
              "    anchor.textContent = text;\n",
              "    element.appendChild(anchor);\n",
              "  })(8050, \"/\", \"http://127.0.0.1:8050/\", window.element)"
            ],
            "text/plain": [
              "<IPython.core.display.Javascript object>"
            ]
          },
          "metadata": {
            "tags": []
          }
        }
      ]
    },
    {
      "cell_type": "markdown",
      "metadata": {
        "id": "UAsHxMLFN_Cc"
      },
      "source": [
        "En un siguiente paso vamos a permitir que el usuario pueda elegir qué productos mostrar en la gráfica. Este tipo de funcionalidades es útil para darle la oportunidad a miembros del equipo de conocer los datos de manera iterativa, sin abrumar con decenas de gráficos distintos.\n",
        "\n",
        "En `Dash` esto se logra a través de `callbacks`, que siguen la siguiente lógica: decime qué atributo de qué elemento querés que monitoree y decime de qué manera querés que lo procese. Luego de procesado, decime en qué atributo de qué elemento querés que ponga el resultado.\n",
        "\n",
        "Esto que luce muy confuso va a quedar más claro en la app. Así que corremos la celda que extiende el layout y define el `callback`, y reiniciamos la app."
      ]
    },
    {
      "cell_type": "code",
      "metadata": {
        "id": "zfyVVgADB49I",
        "cellView": "both"
      },
      "source": [
        "multifilter = [html.H2(\"Gráfica dinámica a través de callbacks.\"),\n",
        "               dcc.Dropdown(\n",
        "                   id=\"dropdown-multi-tipo\",\n",
        "                   options=[{\"label\": \"Alimentos\", \"value\": \"Alimentos\"},\n",
        "                            {\"label\": \"Bebidas\", \"value\": \"Bebidas\"},\n",
        "                            {\"label\": \"Higiene\", \"value\": \"Higiene\"},\n",
        "                            {\"label\": \"Limpieza\", \"value\": \"Limpieza\"},\n",
        "                            {\"label\": \"Otros\", \"value\": \"Otros\"}],\n",
        "                   value=[\"Alimentos\", \"Higiene\"], multi=True),\n",
        "               dcc.Graph(id=\"segunda\")]\n",
        "\n",
        "app.layout.children.extend(multifilter)\n",
        "\n",
        "@app.callback(\n",
        "    Output(\"segunda\", \"figure\"),\n",
        "    [Input(\"dropdown-multi-tipo\", \"value\")]\n",
        ")\n",
        "def segunda(tipos):\n",
        "  if tipos is None or tipos == []:\n",
        "    data = df\n",
        "  else:\n",
        "    data = df.loc[df.producto.isin(tipos)]\n",
        "  data = (data.groupby(\"producto\").resample(\"M\").sum().\n",
        "          reset_index().set_index(\"fecha\"))\n",
        "  fig = px.area(data, x=data.index, y=\"total\", \n",
        "                color=\"producto\", line_group=\"producto\", \n",
        "                color_discrete_sequence=px.colors.qualitative.Vivid,\n",
        "                title=\"Ventas totales por tipo\", template=\"plotly_white\")\n",
        "  return fig\n",
        "\n",
        "  app.run_server(mode=\"external\")"
      ],
      "execution_count": 5,
      "outputs": []
    },
    {
      "cell_type": "markdown",
      "metadata": {
        "id": "2SdJnxbsPmLy"
      },
      "source": [
        "Siguiendo la lógica anterior, lo que hicimos fue definir una lista desplegable (un `dash_core_components.Dropdown`) y le indicamos a la app que monitoree su valor. Ese valor es usado para filtrar el dataframe de los datos, y posteriormente crear el gráfico que es usado en el nuevo elemento `dash_core_components.Graph` que acabamos de definir.\n",
        "\n",
        "Un `callback` puede tener varios inputs y varios outputs, abriendo enormemente las posibilidades para crear dashboards interactivos."
      ]
    },
    {
      "cell_type": "markdown",
      "metadata": {
        "id": "4w5Ebo_KQqNh"
      },
      "source": [
        "Hasta ahora vimos cómo crear gráficos dinámicos. Pero en `Dash` todo tiene el potencial de ser dinámico, ya que un `callback` puede tener como resultado la creación de más elementos HTML o la modificación de los existentes.\n",
        "\n",
        "En el siguiente paso hacemos exactamente eso. El usuario podrá elegir qué filtros aplicar a los datos y qué valores toman esos filtros. Logramos esto mostrando y ocultando los filtros según si el usuario los seleccion, y actualizando el gráfico al mismo tiempo. Esto implica la creación de dos `callbacks`: uno que muestra y oculta los filtros, y otro que toma los valores de los filtros visibles y crea el gráfico."
      ]
    },
    {
      "cell_type": "code",
      "metadata": {
        "id": "-hbPHACf6lIL",
        "cellView": "both"
      },
      "source": [
        "dynamic = [html.H2(\"Interfaz dinámica a través de callbacks.\"),\n",
        "           html.P(\"Definir filtros:\"),\n",
        "           dcc.Checklist(\n",
        "               id=\"checklist\",\n",
        "               options=[{\"label\": \"Tipo\", \"value\": \"tipo\"},\n",
        "                        {\"label\": \"Precio\", \"value\": \"precio\"},\n",
        "                        {\"label\": \"Unidades\", \"value\": \"unidades\"},\n",
        "                        {\"label\": \"IVA\", \"value\": \"iva\"},\n",
        "                        {\"label\": \"Departamento\", \"value\": \"departamento\"}]),\n",
        "           html.Br(),\n",
        "           html.Div(id=\"filtros\", children=[\n",
        "               html.Div(id=\"tipo-container\",\n",
        "                        style={\"display\": \"none\"},\n",
        "                        children=[html.Br(),\n",
        "                                  dcc.Dropdown(\n",
        "                                      id=\"tipo\",\n",
        "                                      options=[{\"label\": \"Alimentos\",\n",
        "                                                \"value\": \"Alimentos\"},\n",
        "                                               {\"label\": \"Bebidas\",\n",
        "                                                \"value\": \"Bebidas\"},\n",
        "                                               {\"label\": \"Higiene\",\n",
        "                                                \"value\": \"Higiene\"},\n",
        "                                               {\"label\": \"Limpieza\",\n",
        "                                                \"value\": \"Limpieza\"},\n",
        "                                               {\"label\": \"Otros\",\n",
        "                                                \"value\": \"Otros\"}],\n",
        "                                      multi=True)]),\n",
        "               html.Div(id=\"precio-container\",\n",
        "                        style={\"display\": \"none\"},\n",
        "                        children=[html.Br(),\n",
        "                                  dcc.RangeSlider(id=\"precio\",\n",
        "                                                  min=10, max=500, step=1,\n",
        "                                                  marks={0: \"0\", 100: \"100\",\n",
        "                                                         200: \"200\",\n",
        "                                                         300: \"300\",\n",
        "                                                         400: \"400\",\n",
        "                                                         500: \"500\"})]),\n",
        "               html.Div(id=\"unidades-container\",\n",
        "                        style={\"display\": \"none\"},\n",
        "                        children=[html.Br(),\n",
        "                                  dcc.RangeSlider(id=\"unidades\",\n",
        "                                                  min=1, max=10, step=1,\n",
        "                                                  marks={1: \"1\", 5: \"5\",\n",
        "                                                         10: \"10\"})]),\n",
        "               html.Div(id=\"iva-container\",\n",
        "                        style={\"display\": \"none\"},\n",
        "                        children=[html.Br(), dcc.Dropdown(\n",
        "                            id=\"iva\",\n",
        "                            options=[{\"label\": \"22%\", \"value\": \"22%\"},\n",
        "                                     {\"label\": \"10%\", \"value\": \"10%\"},\n",
        "                                     {\"label\": \"0%\", \"value\": \"0%\"}],\n",
        "                            multi=True)]),\n",
        "               html.Div(id=\"departamento-container\",\n",
        "                        style={\"display\": \"none\"},\n",
        "                        children=[html.Br(), dcc.Dropdown(\n",
        "                            id=\"departamento\",\n",
        "                            options=[{\"label\": \"Artigas\", \"value\": \"Artigas\"},\n",
        "                                     {\"label\": \"Canelones\",\n",
        "                                      \"value\": \"Canelones\"},\n",
        "                                     {\"label\": \"Cerro Largo\",\n",
        "                                      \"value\": \"Cerro Largo\"},\n",
        "                                     {\"label\": \"Colonia\", \"value\": \"Colonia\"},\n",
        "                                     {\"label\": \"Durazno\", \"value\": \"Durazno\"},\n",
        "                                     {\"label\": \"Flores\", \"value\": \"Flores\"},\n",
        "                                     {\"label\": \"Florida\", \"value\": \"Florida\"},\n",
        "                                     {\"label\": \"Lavalleja\",\n",
        "                                      \"value\": \"Lavalleja\"},\n",
        "                                     {\"label\": \"Maldonado\",\n",
        "                                      \"value\": \"Maldonado\"},\n",
        "                                     {\"label\": \"Montevideo\",\n",
        "                                      \"value\": \"Montevideo\"},\n",
        "                                     {\"label\": \"Paysandú\",\n",
        "                                      \"value\": \"Paysandú\"},\n",
        "                                     {\"label\": \"Río Negro\",\n",
        "                                      \"value\": \"Río Negro\"},\n",
        "                                     {\"label\": \"Rivera\", \"value\": \"Rivera\"},\n",
        "                                     {\"label\": \"Rocha\", \"value\": \"Rocha\"},\n",
        "                                     {\"label\": \"Salto\", \"value\": \"Salto\"},\n",
        "                                     {\"label\": \"San José\",\n",
        "                                      \"value\": \"San José\"},\n",
        "                                     {\"label\": \"Soriano\", \"value\": \"Soriano\"},\n",
        "                                     {\"label\": \"Tacuarembó\",\n",
        "                                      \"value\": \"Tacuarembó\"},\n",
        "                                     {\"label\": \"Treinta y Tres\",\n",
        "                                      \"value\": \"Treinta y Tres\"}],\n",
        "                            multi=True)]),\n",
        "               dcc.Graph(id=\"tercera\")])]\n",
        "\n",
        "app.layout.children.extend(dynamic)\n",
        "\n",
        "@app.callback(\n",
        "    [Output(\"tipo-container\", \"style\"),\n",
        "     Output(\"precio-container\", \"style\"),\n",
        "     Output(\"unidades-container\", \"style\"),\n",
        "     Output(\"iva-container\", \"style\"),\n",
        "     Output(\"departamento-container\", \"style\")],\n",
        "    [Input(\"checklist\", \"value\")]\n",
        ")\n",
        "def definir_filtros(seleccion):\n",
        "    if seleccion is None:\n",
        "        return [{\"display\": \"none\"}, {\"display\": \"none\"}, {\"display\": \"none\"},\n",
        "                {\"display\": \"none\"}, {\"display\": \"none\"}]\n",
        "    styles = []\n",
        "    for filtro in [\"tipo\", \"precio\", \"unidades\", \"iva\", \"departamento\"]:\n",
        "        if filtro in seleccion:\n",
        "            styles.append({\"display\": \"block\"})\n",
        "        else:\n",
        "            styles.append({\"display\": \"none\"})\n",
        "\n",
        "    return styles\n",
        "\n",
        "@app.callback(\n",
        "    Output(\"tercera\", \"figure\"),\n",
        "    [Input(\"tipo\", \"value\"),\n",
        "     Input(\"precio\", \"value\"),\n",
        "     Input(\"unidades\", \"value\"),\n",
        "     Input(\"iva\", \"value\"),\n",
        "     Input(\"departamento\", \"value\"),\n",
        "     Input(\"tipo-container\", \"style\"),\n",
        "     Input(\"precio-container\", \"style\"),\n",
        "     Input(\"unidades-container\", \"style\"),\n",
        "     Input(\"iva-container\", \"style\"),\n",
        "     Input(\"departamento-container\", \"style\")]\n",
        "    )\n",
        "def tercera(tipo, precio, unidades, tasa_iva, departamento,\n",
        "            tipo_style, precio_style, unidades_style, iva_style, \n",
        "            departamento_style):\n",
        "  data = df.copy()\n",
        "  if tipo_style == {\"display\": \"block\"}:\n",
        "      if tipo != [] and tipo is not None:\n",
        "        data = data.loc[data[\"producto\"].isin(tipo)]\n",
        "  if precio_style == {\"display\": \"block\"}:\n",
        "      if precio != [] and precio is not None:\n",
        "        data = data.loc[data[\"precio\"].between(precio[0], precio[1])]\n",
        "  if unidades_style == {\"display\": \"block\"}:\n",
        "      if unidades != [] and unidades is not None:\n",
        "        data = data.loc[data[\"unidades\"].between(unidades[0], unidades[1])]\n",
        "  if iva_style == {\"display\": \"block\"}:\n",
        "      if tasa_iva != [] and tasa_iva is not None:\n",
        "        data = data.loc[data[\"tasa_iva\"].isin(tasa_iva)]\n",
        "  if departamento_style == {\"display\": \"block\"}:\n",
        "      if departamento != [] and departamento is not None:\n",
        "        data = data.loc[data[\"departamento\"].isin(departamento)]\n",
        "  data = data.resample(\"M\").sum()\n",
        "  fig = px.line(data, x=data.index, y=\"total\",\n",
        "                color_discrete_sequence=px.colors.qualitative.Vivid,\n",
        "                title=\"Ventas totales\", template=\"plotly_white\")\n",
        "  return fig\n",
        "\n",
        "  app.run_server(mode=\"external\")"
      ],
      "execution_count": 6,
      "outputs": []
    },
    {
      "cell_type": "markdown",
      "metadata": {
        "id": "fkHhTyXdX3VS"
      },
      "source": [
        "Con esto estamos cubriendo lo básico de `Dash`, pero ya es suficiente para crear dashboards de alto valor en poco tiempo. Para ver qué otras posibilidades hay pueden chequear la [galería de apps de Dash en su web](https://dash-gallery.plotly.host/Portal/). Las secciones de [visualización](https://www.econ.uy/viz) y el [vistazo](https://www.econ.uy/viz) de mi sitio web econuy también fueron creadas con `Dash`."
      ]
    }
  ]
}